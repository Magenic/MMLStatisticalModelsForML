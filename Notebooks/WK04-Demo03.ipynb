{
 "cells": [
  {
   "cell_type": "code",
   "execution_count": 1,
   "metadata": {},
   "outputs": [],
   "source": [
    "import tensorflow as tf\n",
    "\n",
    "from tensorflow import keras\n",
    "from tensorflow.keras import models\n"
   ]
  },
  {
   "cell_type": "code",
   "execution_count": 2,
   "metadata": {},
   "outputs": [],
   "source": [
    "(x_train, y_train), (x_test, y_test) = tf.keras.datasets.mnist.load_data()\n",
    "\n",
    "num_classes=10\n",
    "IMG_ROWS, IMG_COLS = 28, 28\n",
    "\n",
    "input_shape = (IMG_ROWS, IMG_COLS, 1)\n",
    "\n",
    "x_train = x_train.reshape(60000, IMG_ROWS, IMG_COLS, 1)\n",
    "x_test = x_test.reshape(10000, IMG_ROWS, IMG_COLS, 1)\n",
    "\n",
    "x_train, x_test = x_train / 255.0, x_test / 255.0\n",
    "\n",
    "x_train = x_train.astype('float32')\n",
    "x_test = x_test.astype('float32')\n",
    "\n",
    "y_train = tf.keras.utils.to_categorical(y_train, num_classes)\n",
    "y_test = tf.keras.utils.to_categorical(y_test, num_classes)\n"
   ]
  },
  {
   "cell_type": "code",
   "execution_count": 3,
   "metadata": {},
   "outputs": [
    {
     "name": "stdout",
     "output_type": "stream",
     "text": [
      "Model: \"sequential\"\n",
      "_________________________________________________________________\n",
      "Layer (type)                 Output Shape              Param #   \n",
      "=================================================================\n",
      "conv2d (Conv2D)              (None, 24, 24, 20)        520       \n",
      "_________________________________________________________________\n",
      "max_pooling2d (MaxPooling2D) (None, 12, 12, 20)        0         \n",
      "_________________________________________________________________\n",
      "conv2d_1 (Conv2D)            (None, 8, 8, 50)          25050     \n",
      "_________________________________________________________________\n",
      "max_pooling2d_1 (MaxPooling2 (None, 4, 4, 50)          0         \n",
      "_________________________________________________________________\n",
      "flatten (Flatten)            (None, 800)               0         \n",
      "_________________________________________________________________\n",
      "dropout (Dropout)            (None, 800)               0         \n",
      "_________________________________________________________________\n",
      "dense (Dense)                (None, 128)               102528    \n",
      "_________________________________________________________________\n",
      "dropout_1 (Dropout)          (None, 128)               0         \n",
      "_________________________________________________________________\n",
      "dense_1 (Dense)              (None, 10)                1290      \n",
      "=================================================================\n",
      "Total params: 129,388\n",
      "Trainable params: 129,388\n",
      "Non-trainable params: 0\n",
      "_________________________________________________________________\n",
      "Epoch 1/12\n",
      "469/469 [==============================] - 37s 79ms/step - loss: 0.3267 - accuracy: 0.8984 - val_loss: 0.0619 - val_accuracy: 0.9795\n",
      "Epoch 2/12\n",
      "469/469 [==============================] - 39s 84ms/step - loss: 0.1008 - accuracy: 0.9697 - val_loss: 0.0440 - val_accuracy: 0.9861\n",
      "Epoch 3/12\n",
      "469/469 [==============================] - 38s 81ms/step - loss: 0.0731 - accuracy: 0.9780 - val_loss: 0.0303 - val_accuracy: 0.9910\n",
      "Epoch 4/12\n",
      "469/469 [==============================] - 34s 72ms/step - loss: 0.0600 - accuracy: 0.9821 - val_loss: 0.0337 - val_accuracy: 0.9881\n",
      "Epoch 5/12\n",
      "469/469 [==============================] - 42s 89ms/step - loss: 0.0504 - accuracy: 0.9847 - val_loss: 0.0260 - val_accuracy: 0.9912\n",
      "Epoch 6/12\n",
      "469/469 [==============================] - 49s 105ms/step - loss: 0.0442 - accuracy: 0.9861 - val_loss: 0.0242 - val_accuracy: 0.9923\n",
      "Epoch 7/12\n",
      "469/469 [==============================] - 42s 90ms/step - loss: 0.0401 - accuracy: 0.9879 - val_loss: 0.0237 - val_accuracy: 0.9922\n",
      "Epoch 8/12\n",
      "469/469 [==============================] - 39s 82ms/step - loss: 0.0367 - accuracy: 0.9885 - val_loss: 0.0268 - val_accuracy: 0.9910\n",
      "Epoch 9/12\n",
      "469/469 [==============================] - 32s 69ms/step - loss: 0.0334 - accuracy: 0.9894 - val_loss: 0.0217 - val_accuracy: 0.9926\n",
      "Epoch 10/12\n",
      "469/469 [==============================] - 32s 68ms/step - loss: 0.0302 - accuracy: 0.9908 - val_loss: 0.0236 - val_accuracy: 0.9926\n",
      "Epoch 11/12\n",
      "469/469 [==============================] - 26s 54ms/step - loss: 0.0302 - accuracy: 0.9905 - val_loss: 0.0208 - val_accuracy: 0.9930\n",
      "Epoch 12/12\n",
      "469/469 [==============================] - 23s 49ms/step - loss: 0.0260 - accuracy: 0.9919 - val_loss: 0.0195 - val_accuracy: 0.9936\n",
      "Test loss: 0.01947930082678795\n",
      "Test accuracy: 0.9936000108718872\n"
     ]
    }
   ],
   "source": [
    "model = models.Sequential()\n",
    "model.add(keras.layers.Convolution2D(20, (5, 5), activation='relu', input_shape=input_shape))\n",
    "model.add(keras.layers.MaxPooling2D(pool_size=(2,2), strides=(2,2)))\n",
    "model.add(keras.layers.Convolution2D(50, (5, 5), activation='relu'))\n",
    "model.add(keras.layers.MaxPooling2D(pool_size=(2,2), strides=(2,2)))\n",
    "model.add(keras.layers.Flatten()) \n",
    "model.add(keras.layers.Dropout(0.25)) \n",
    "model.add(tf.keras.layers.Dense(128, activation='relu')) \n",
    "model.add(tf.keras.layers.Dropout(0.5))\n",
    "model.add(keras.layers.Dense(num_classes, activation='softmax'))\n",
    "\n",
    "model.summary()\n",
    "\n",
    "model.compile(loss=tf.keras.losses.categorical_crossentropy, optimizer='Adam', metrics=['accuracy'])\n",
    "\n",
    "model.fit(x_train, y_train, batch_size=128, epochs=12, verbose=1, validation_data=(x_test, y_test))\n",
    "\n",
    "score = model.evaluate(x_test, y_test, verbose=0) \n",
    "print('Test loss:', score[0]) \n",
    "print('Test accuracy:', score[1])"
   ]
  },
  {
   "cell_type": "code",
   "execution_count": null,
   "metadata": {},
   "outputs": [],
   "source": []
  }
 ],
 "metadata": {
  "kernelspec": {
   "display_name": "Python 3",
   "language": "python",
   "name": "python3"
  },
  "language_info": {
   "codemirror_mode": {
    "name": "ipython",
    "version": 3
   },
   "file_extension": ".py",
   "mimetype": "text/x-python",
   "name": "python",
   "nbconvert_exporter": "python",
   "pygments_lexer": "ipython3",
   "version": "3.6.9"
  }
 },
 "nbformat": 4,
 "nbformat_minor": 2
}
