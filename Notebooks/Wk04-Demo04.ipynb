{
 "cells": [
  {
   "cell_type": "code",
   "execution_count": 1,
   "metadata": {},
   "outputs": [],
   "source": [
    "from tensorflow.keras.models import Sequential\n",
    "from tensorflow.keras.layers import LSTM, Dense\n",
    "from tensorflow.keras.datasets import mnist\n",
    "from tensorflow.keras import utils\n",
    "from tensorflow.keras import initializers\n",
    "\n",
    "# Hyper parameters\n",
    "batch_size = 128\n",
    "nb_epoch = 10\n",
    "# Parameters for MNIST dataset\n",
    "img_rows, img_cols = 28, 28\n",
    "nb_classes = 10\n",
    "# Parameters for LSTM network\n",
    "nb_lstm_outputs = 30\n",
    "nb_time_steps = img_rows\n",
    "dim_input_vector = img_cols"
   ]
  },
  {
   "cell_type": "code",
   "execution_count": 3,
   "metadata": {},
   "outputs": [
    {
     "name": "stdout",
     "output_type": "stream",
     "text": [
      "X_train original shape: (60000, 28, 28)\n",
      "X_train shape: (60000, 28, 28)\n",
      "60000 train samples\n",
      "10000 test samples\n"
     ]
    }
   ],
   "source": [
    "# Load MNIST dataset\n",
    "(X_train, y_train), (X_test, y_test) = mnist.load_data()\n",
    "print('X_train original shape:', X_train.shape)\n",
    "input_shape = (nb_time_steps, dim_input_vector)\n",
    "X_train = X_train.astype('float32') / 255.\n",
    "X_test = X_test.astype('float32') / 255.\n",
    "Y_train = utils.to_categorical(y_train, nb_classes)\n",
    "Y_test = utils.to_categorical(y_test, nb_classes)\n",
    "print('X_train shape:', X_train.shape)\n",
    "print(X_train.shape[0], 'train samples')\n",
    "print(X_test.shape[0], 'test samples')"
   ]
  },
  {
   "cell_type": "code",
   "execution_count": 4,
   "metadata": {},
   "outputs": [
    {
     "name": "stdout",
     "output_type": "stream",
     "text": [
      "Model: \"sequential\"\n",
      "_________________________________________________________________\n",
      "Layer (type)                 Output Shape              Param #   \n",
      "=================================================================\n",
      "lstm (LSTM)                  (None, 30)                7080      \n",
      "_________________________________________________________________\n",
      "dense (Dense)                (None, 10)                310       \n",
      "=================================================================\n",
      "Total params: 7,390\n",
      "Trainable params: 7,390\n",
      "Non-trainable params: 0\n",
      "_________________________________________________________________\n"
     ]
    }
   ],
   "source": [
    "# LSTM Building\n",
    "model = Sequential()\n",
    "model.add(LSTM(nb_lstm_outputs, input_shape=input_shape))\n",
    "model.add(Dense(nb_classes, activation='softmax'))\n",
    "\n",
    "model.compile(optimizer='rmsprop', loss='categorical_crossentropy', metrics=['accuracy'])\n",
    "model.summary()"
   ]
  },
  {
   "cell_type": "code",
   "execution_count": 6,
   "metadata": {},
   "outputs": [
    {
     "name": "stdout",
     "output_type": "stream",
     "text": [
      "Epoch 1/10\n",
      "469/469 [==============================] - 24s 52ms/step - loss: 1.0579 - accuracy: 0.6731 - val_loss: 0.5172 - val_accuracy: 0.8467\n",
      "Epoch 2/10\n",
      "469/469 [==============================] - 21s 45ms/step - loss: 0.3793 - accuracy: 0.8865 - val_loss: 0.3014 - val_accuracy: 0.9097\n",
      "Epoch 3/10\n",
      "469/469 [==============================] - 23s 49ms/step - loss: 0.2508 - accuracy: 0.9265 - val_loss: 0.1959 - val_accuracy: 0.9426\n",
      "Epoch 4/10\n",
      "469/469 [==============================] - 26s 55ms/step - loss: 0.1946 - accuracy: 0.9433 - val_loss: 0.1606 - val_accuracy: 0.9524\n",
      "Epoch 5/10\n",
      "469/469 [==============================] - 28s 59ms/step - loss: 0.1621 - accuracy: 0.9535 - val_loss: 0.1531 - val_accuracy: 0.9527\n",
      "Epoch 6/10\n",
      "469/469 [==============================] - 26s 54ms/step - loss: 0.1401 - accuracy: 0.9594 - val_loss: 0.1359 - val_accuracy: 0.9604\n",
      "Epoch 7/10\n",
      "469/469 [==============================] - 25s 54ms/step - loss: 0.1245 - accuracy: 0.9640 - val_loss: 0.1105 - val_accuracy: 0.9667\n",
      "Epoch 8/10\n",
      "469/469 [==============================] - 24s 52ms/step - loss: 0.1131 - accuracy: 0.9675 - val_loss: 0.1174 - val_accuracy: 0.9637\n",
      "Epoch 9/10\n",
      "469/469 [==============================] - 23s 49ms/step - loss: 0.1027 - accuracy: 0.9706 - val_loss: 0.1120 - val_accuracy: 0.9668\n",
      "Epoch 10/10\n",
      "469/469 [==============================] - 24s 51ms/step - loss: 0.0945 - accuracy: 0.9728 - val_loss: 0.1126 - val_accuracy: 0.9665\n",
      "79/79 [==============================] - 1s 18ms/step - loss: 0.1126 - accuracy: 0.9665\n",
      "Summary: Loss over the test dataset: 0.11, Accuracy: 0.97\n"
     ]
    }
   ],
   "source": [
    "# Training the model\n",
    "history = model.fit(X_train, \n",
    "                    Y_train, \n",
    "                    epochs=nb_epoch, \n",
    "                    batch_size=batch_size, \n",
    "                    shuffle=True,\n",
    "                    validation_data=(X_test, Y_test),\n",
    "                    verbose=1)\n",
    "\n",
    "# Evaluation\n",
    "evaluation = model.evaluate(X_test, Y_test, batch_size=batch_size, verbose=1)\n",
    "print('Summary: Loss over the test dataset: %.2f, Accuracy: %.2f' % (evaluation[0], evaluation[1]))"
   ]
  },
  {
   "cell_type": "code",
   "execution_count": null,
   "metadata": {},
   "outputs": [],
   "source": []
  }
 ],
 "metadata": {
  "kernelspec": {
   "display_name": "Python 3",
   "language": "python",
   "name": "python3"
  },
  "language_info": {
   "codemirror_mode": {
    "name": "ipython",
    "version": 3
   },
   "file_extension": ".py",
   "mimetype": "text/x-python",
   "name": "python",
   "nbconvert_exporter": "python",
   "pygments_lexer": "ipython3",
   "version": "3.6.9"
  }
 },
 "nbformat": 4,
 "nbformat_minor": 2
}
